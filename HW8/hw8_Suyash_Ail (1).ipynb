{
  "nbformat": 4,
  "nbformat_minor": 0,
  "metadata": {
    "colab": {
      "name": "hw8_Suyash_Ail.ipynb",
      "provenance": []
    },
    "kernelspec": {
      "name": "python3",
      "display_name": "Python 3"
    }
  },
  "cells": [
    {
      "cell_type": "code",
      "metadata": {
        "id": "lyb5zA0OoldE"
      },
      "source": [
        "# import all the necessary libraries\n",
        "import numpy as np\n",
        "import cv2\n",
        "import matplotlib.pyplot as plt\n",
        "import os\n",
        "import re\n",
        "import pickle\n",
        "from sklearn.pipeline import make_pipeline\n",
        "from sklearn.preprocessing import StandardScaler\n",
        "from sklearn.svm import SVC\n",
        "from sklearn.model_selection import train_test_split\n",
        "from sklearn.metrics import accuracy_score,confusion_matrix"
      ],
      "execution_count": null,
      "outputs": []
    },
    {
      "cell_type": "code",
      "metadata": {
        "id": "mjXd3JVyo_Cm"
      },
      "source": [
        "training_dir='/content/drive/My Drive/imagesDatabaseHW8/training/'\n",
        "testing_dir = '/content/drive/My Drive/imagesDatabaseHW8/testing/'"
      ],
      "execution_count": null,
      "outputs": []
    },
    {
      "cell_type": "code",
      "metadata": {
        "id": "KaQUJwvrqGug"
      },
      "source": [
        "# function to load images and get class labels\n",
        "def get_images(dir):\n",
        "  filenames = os.listdir(dir)\n",
        "  images = []\n",
        "  #class labels dictionary\n",
        "  labels = {'cloudy':0,\n",
        "            'rain':1,\n",
        "            'shine':2,\n",
        "            'sunrise':3\n",
        "            }\n",
        "  for filename in filenames:\n",
        "\n",
        "    image_dir = dir + filename\n",
        "    img = plt.imread(image_dir)\n",
        "    \n",
        "    classname=re.split('(\\d+)',filename)[0]\n",
        "    classlabel = labels[classname]\n",
        "    images.append([img,classlabel])\n",
        "  return images"
      ],
      "execution_count": null,
      "outputs": []
    },
    {
      "cell_type": "code",
      "metadata": {
        "id": "EZ4TUqSnqHxe"
      },
      "source": [
        "# get the training and test images\n",
        "train_images = get_images(training_dir)\n",
        "test_images = get_images(testing_dir)"
      ],
      "execution_count": null,
      "outputs": []
    },
    {
      "cell_type": "code",
      "metadata": {
        "id": "slIm23kJqQPW"
      },
      "source": [
        "# function to get the gram matrix\n",
        "def gram_matrix(image, C=16,M=3, K=16):\n",
        "  # convert to grayscale if not already in\n",
        "  if len(image.shape)>2:\n",
        "    image = cv2.cvtColor(image, cv2.COLOR_BGR2GRAY)\n",
        "  \n",
        "  #image = cv2.resize(image,(K,K))  #rescaling didnt work out good\n",
        "  h,w = image.shape\n",
        "  image = image[h//2-K//2:h//2+K//2,w//2-K//2:w//2+K//2]  #center crop\n",
        "  #print(image.shape)\n",
        "  img_vector =[]\n",
        "  # run for C times to get C channel maps\n",
        "  for i in range (C):\n",
        "    # get random kernel\n",
        "    w = a = np.random.rand(M,M)\n",
        "    w = w - np.sum(w)/M**2\n",
        "    filtered_img = cv2.filter2D(image,-1,w)\n",
        "    filtered_vector = filtered_img.flatten()\n",
        "    img_vector.append(filtered_vector)\n",
        "  \n",
        "  gram_mat = np.zeros ((C,C))\n",
        "  for i in range(len(img_vector)):\n",
        "    for j in range(i+1):\n",
        "    #for j in range(len(img_vector)): #trying to see if full matrix helps improve accuracy but no\n",
        "      dot = np.dot(img_vector[i],img_vector[j])\n",
        "      gram_mat[i,j] = dot\n",
        "  \n",
        "  return gram_mat"
      ],
      "execution_count": null,
      "outputs": []
    },
    {
      "cell_type": "code",
      "metadata": {
        "id": "qt94Nk3RqlMO"
      },
      "source": [
        "# full classification pipeline icluding finding gram vectors and classification using SVM\n",
        "\n",
        "def classification(train_image_list,test_image_list,C,M,K):\n",
        "  input = np.array([x[0] for x in train_image_list])\n",
        "  label = [x[1] for x in train_image_list]\n",
        "  #print(input[0].shape)\n",
        "  #print(label)\n",
        "\n",
        "  test_input = [x[0] for x in test_image_list]\n",
        "  test_label = [x[1] for x in test_image_list]\n",
        "  train_gram_list=[]\n",
        "  # get gram matrix for all training images\n",
        "  for img in input:\n",
        "    gm = gram_matrix(img,C,M,K)\n",
        "    gm = np.array(gm).flatten()\n",
        "    train_gram_list.append(gm)\n",
        "  #print(train_gram_list)\n",
        "  test_gram_list=[]\n",
        "  # get gram matrix for all testing images\n",
        "  for img in test_input:\n",
        "    gm = gram_matrix(img,C,M,K)\n",
        "    gm = np.array(gm).flatten()\n",
        "    test_gram_list.append(gm)\n",
        "\n",
        "  ########### Start the Classification task ################\n",
        "  X_train,X_val,y_train,y_val = train_test_split(train_gram_list,label,test_size = 0.3,shuffle=True)\n",
        "  X_test,y_test = test_gram_list, test_label\n",
        "\n",
        "  clf = make_pipeline(StandardScaler(),SVC(C=100,gamma='scale',kernel='rbf'))\n",
        "  clf.fit(X_train, y_train)\n",
        "  y_pred = clf.predict(X_val)\n",
        "  acc = accuracy_score(y_val,y_pred)\n",
        "  y_test_pred = clf.predict(X_test)\n",
        "  test_acc = accuracy_score(y_test,y_test_pred)\n",
        "  return acc,test_acc\n"
      ],
      "execution_count": null,
      "outputs": []
    },
    {
      "cell_type": "code",
      "metadata": {
        "id": "08ba28Rrtce7",
        "colab": {
          "base_uri": "https://localhost:8080/",
          "height": 85
        },
        "outputId": "d66a4d41-8e04-4ed7-cc3d-02ba325c8992"
      },
      "source": [
        "#C = [2,4,8,16,32,64,128,256,512]\n",
        "#M = [3,5,7]\n",
        "K = [16, 32, 64, 128]\n",
        "acc_list =[]\n",
        "test_acc_list =[]\n",
        "for k in K:\n",
        "  print(\"current C=\",c)\n",
        "  acc,test_acc = classification(train_images,test_images,256,3,k)\n",
        "  acc_list.append(acc)\n",
        "  test_acc_list.append(test_acc)"
      ],
      "execution_count": null,
      "outputs": [
        {
          "output_type": "stream",
          "text": [
            "current C= 2\n",
            "current C= 2\n",
            "current C= 2\n",
            "current C= 2\n"
          ],
          "name": "stdout"
        }
      ]
    },
    {
      "cell_type": "code",
      "metadata": {
        "id": "pBhiZQbmtoQ5",
        "colab": {
          "base_uri": "https://localhost:8080/",
          "height": 34
        },
        "outputId": "03c68211-37be-4fae-a8f4-939ed0ec1d3e"
      },
      "source": [
        "acc,test_acc"
      ],
      "execution_count": null,
      "outputs": [
        {
          "output_type": "execute_result",
          "data": {
            "text/plain": [
              "(0.3496932515337423, 0.275)"
            ]
          },
          "metadata": {
            "tags": []
          },
          "execution_count": 43
        }
      ]
    },
    {
      "cell_type": "code",
      "metadata": {
        "id": "q5yLOt3318Wu",
        "colab": {
          "base_uri": "https://localhost:8080/",
          "height": 295
        },
        "outputId": "d19e1316-b46d-4b3b-a1cb-bbe70499c5fe"
      },
      "source": [
        "plt.plot((16,32,64,128),acc_list)\n",
        "plt.xlabel('sampling size')\n",
        "plt.ylabel('accuracy')\n",
        "plt.title('Validation accuracy vs K')\n",
        "plt.savefig(\"/content/drive/My Drive/imagesDatabaseHW8/val_acc.jpg\")"
      ],
      "execution_count": null,
      "outputs": [
        {
          "output_type": "display_data",
          "data": {
            "image/png": "[encoded data removed]",
            "text/plain": [
              "<Figure size 432x288 with 1 Axes>"
            ]
          },
          "metadata": {
            "tags": [],
            "needs_background": "light"
          }
        }
      ]
    },
    {
      "cell_type": "code",
      "metadata": {
        "id": "VMpzPe5q2C56",
        "colab": {
          "base_uri": "https://localhost:8080/",
          "height": 295
        },
        "outputId": "f4258988-8abe-4a37-ba5f-1ac36f564fe4"
      },
      "source": [
        "plt.plot((16,32,64,128),test_acc_list)\n",
        "plt.xlabel('sampling size')\n",
        "plt.ylabel('accuracy')\n",
        "plt.title('Test accuracy vs K')\n",
        "plt.savefig(\"/content/drive/My Drive/imagesDatabaseHW8/test_acc.jpg\")"
      ],
      "execution_count": null,
      "outputs": [
        {
          "output_type": "display_data",
          "data": {
            "image/png": "[encoded data removed]",
            "text/plain": [
              "<Figure size 432x288 with 1 Axes>"
            ]
          },
          "metadata": {
            "tags": [],
            "needs_background": "light"
          }
        }
      ]
    }
  ]
}